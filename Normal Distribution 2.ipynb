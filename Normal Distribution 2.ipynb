{
 "cells": [
  {
   "cell_type": "code",
   "execution_count": null,
   "metadata": {},
   "outputs": [],
   "source": [
    "#The final grades for a Physics exam taken by a large group of students have a mean of μ = 70 and a standard deviation of σ = 10. If we can approximate the distribution of these grades by a normal distribution, what percentage of the students:\n",
    "\n",
    "#1.Scored higher than 80 (i.e., have a grade > 80)?\n",
    "#2.Passed the test (i.e., have a grade >= 60)?\n",
    "#3.Failed the test (i.e., have a grade < 60)?\n",
    "# Find and print the answer to each question on a new line, rounded to a scale of  decimal places."
   ]
  },
  {
   "cell_type": "code",
   "execution_count": 6,
   "metadata": {},
   "outputs": [
    {
     "name": "stdout",
     "output_type": "stream",
     "text": [
      "15.87\n",
      "84.13\n",
      "15.87\n"
     ]
    }
   ],
   "source": [
    "import math\n",
    "mean, std = 70, 10\n",
    "cdf = lambda x: 0.5 * (1 + math.erf((x - mean) / (std * (2 ** 0.5))))\n",
    "print('{:.2f}'.format(100 - cdf(80)*100))\n",
    "print('{:.2f}'.format(100 - cdf(60)*100))\n",
    "print('{:.2f}'.format(cdf(60)*100))"
   ]
  }
 ],
 "metadata": {
  "kernelspec": {
   "display_name": "Python 3",
   "language": "python",
   "name": "python3"
  },
  "language_info": {
   "codemirror_mode": {
    "name": "ipython",
    "version": 3
   },
   "file_extension": ".py",
   "mimetype": "text/x-python",
   "name": "python",
   "nbconvert_exporter": "python",
   "pygments_lexer": "ipython3",
   "version": "3.6.5"
  }
 },
 "nbformat": 4,
 "nbformat_minor": 2
}
